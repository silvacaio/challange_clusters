{
  "nbformat": 4,
  "nbformat_minor": 0,
  "metadata": {
    "colab": {
      "name": "Challenge_clusters.ipynb",
      "provenance": [],
      "toc_visible": true,
      "include_colab_link": true
    },
    "kernelspec": {
      "name": "python3",
      "display_name": "Python 3"
    }
  },
  "cells": [
    {
      "cell_type": "markdown",
      "metadata": {
        "id": "view-in-github",
        "colab_type": "text"
      },
      "source": [
        "<a href=\"https://colab.research.google.com/github/silvacaio/challange_clusters/blob/master/Challenge_clusters.ipynb\" target=\"_parent\"><img src=\"https://colab.research.google.com/assets/colab-badge.svg\" alt=\"Open In Colab\"/></a>"
      ]
    },
    {
      "cell_type": "markdown",
      "metadata": {
        "id": "f0FEP1m6aZWN",
        "colab_type": "text"
      },
      "source": [
        "Você foi contratado por uma empresa de jogos para classificar seus jogadores em algum número de categorias de forma que eles possam organizar as partidas apenas dentro desses níveis. O objetivo principal é que as partidas sejam equilibradas - jogadores consigam partidas com jogadores de um nível de habilidade similar.\n",
        "Além disso, a empresa gostaria de saber se os jogadores de algum país se destacam mais no jogo.\n",
        "\n",
        "Você precisará extrair informações de\n",
        "\n",
        "1. API Players : Informações pessoais dos jogadores - id, nome, e-mail, país e último login\n",
        "\n",
        "2. PostgreSQL Matches table: Informações sobre as partidas realizadas - id, tipo de partida, jogadores participantes, data e duração\n",
        "\n",
        "3. PostgreSQL Goals table: Informações sobre os gols feitos em cada partida - id, tempo de partida em que o gol ocorreu e jogador que fez o gol\n",
        "\n",
        "Endereço da API\n",
        "https://api.desafio.online\n",
        "\n",
        "Credenciais do banco PostgreSQL\n",
        "\n",
        "Usuário: readonly\n",
        "\n",
        "Senha: desafiodsop\n",
        "\n",
        "Host: rds.desafio.online\n",
        "\n",
        "Banco: iclinic_games\n",
        "\n",
        "Porta: 5432\n",
        "\n",
        "\n",
        "Apresente os grupos que formar de acordo com seu método separando os nomes dos jogadores em cada categoria.\n",
        "Utilize técnicas estatísticas de clusterização para justificar a resposta e apresente todos os scripts utilizados, além da argumentação em texto que julgar necessária.\n",
        "Junte todos os arquivos relevantes para a sua resposta em um arquivo ZIP ou RAR, poste em algum serviço online e disponibilize o link aqui na resposta."
      ]
    },
    {
      "cell_type": "markdown",
      "metadata": {
        "id": "r2fV4-SieMs7",
        "colab_type": "text"
      },
      "source": [
        "#Packages"
      ]
    },
    {
      "cell_type": "code",
      "metadata": {
        "id": "QkkEHS1BeK30",
        "colab_type": "code",
        "colab": {}
      },
      "source": [
        "import pandas as pd\n",
        "import numpy as np\n",
        "import json\n",
        "import requests"
      ],
      "execution_count": null,
      "outputs": []
    },
    {
      "cell_type": "markdown",
      "metadata": {
        "id": "Hlsr_d_Od4zf",
        "colab_type": "text"
      },
      "source": [
        "# 1 - Buscar informações dos jogadores na API"
      ]
    },
    {
      "cell_type": "code",
      "metadata": {
        "id": "ORzOhY76dzHI",
        "colab_type": "code",
        "colab": {}
      },
      "source": [
        "response = requests.get(\"https://api.desafio.online/v1/players/\")"
      ],
      "execution_count": null,
      "outputs": []
    },
    {
      "cell_type": "code",
      "metadata": {
        "id": "MZpBsqFCeHVp",
        "colab_type": "code",
        "colab": {}
      },
      "source": [
        "players =  response.json()['body']"
      ],
      "execution_count": null,
      "outputs": []
    },
    {
      "cell_type": "code",
      "metadata": {
        "id": "DY_1UN_meblJ",
        "colab_type": "code",
        "colab": {
          "base_uri": "https://localhost:8080/",
          "height": 35
        },
        "outputId": "b48f7b6c-9730-45d2-b4bf-ccf1c96a6e6e"
      },
      "source": [
        "len(players)"
      ],
      "execution_count": null,
      "outputs": [
        {
          "output_type": "execute_result",
          "data": {
            "text/plain": [
              "200"
            ]
          },
          "metadata": {
            "tags": []
          },
          "execution_count": 4
        }
      ]
    },
    {
      "cell_type": "markdown",
      "metadata": {
        "id": "1jDcXZRhfGfs",
        "colab_type": "text"
      },
      "source": [
        "# 2 - Parametrizando a conexão com o banco de dados"
      ]
    },
    {
      "cell_type": "code",
      "metadata": {
        "id": "jVG__bnyfQCu",
        "colab_type": "code",
        "colab": {
          "base_uri": "https://localhost:8080/",
          "height": 69
        },
        "outputId": "7868a881-d9cc-4d6d-e8b8-7840ed9303b0"
      },
      "source": [
        "!pip install sqlalchemy psycopg2\n",
        "!conda install -y sqlalchemy psycopg2"
      ],
      "execution_count": null,
      "outputs": [
        {
          "output_type": "stream",
          "text": [
            "Requirement already satisfied: sqlalchemy in /usr/local/lib/python3.6/dist-packages (1.3.17)\n",
            "Requirement already satisfied: psycopg2 in /usr/local/lib/python3.6/dist-packages (2.7.6.1)\n",
            "/bin/bash: conda: command not found\n"
          ],
          "name": "stdout"
        }
      ]
    },
    {
      "cell_type": "code",
      "metadata": {
        "id": "VV0lQm2Ofvvz",
        "colab_type": "code",
        "colab": {
          "base_uri": "https://localhost:8080/",
          "height": 72
        },
        "outputId": "abd1b740-a64d-4c70-8b50-bd1d0d68bf52"
      },
      "source": [
        "import psycopg2\n",
        "import sqlalchemy\n",
        "from sqlalchemy import create_engine\n",
        "POSTGRES_ADDRESS = 'rds.desafio.online' # endereço do banco da dos\n",
        "POSTGRES_PORT = '5432' # porta utilizada\n",
        "POSTGRES_USERNAME = 'readonly' # usuário\n",
        "POSTGRES_PASSWORD = \"desafiodsop\" # senha\n",
        "POSTGRES_DBNAME = 'iclinic_games' # nome da DB\n",
        "\n",
        "# connectionString formatada\n",
        "postgres_str = ('postgresql://{username}:{password}@{ipaddress}:{port}/{dbname}'\n",
        ".format(username=POSTGRES_USERNAME,\n",
        "password=POSTGRES_PASSWORD,\n",
        "ipaddress=POSTGRES_ADDRESS,\n",
        "port=POSTGRES_PORT,\n",
        "dbname=POSTGRES_DBNAME))\n",
        "# Create the connection\n",
        "cnx = create_engine(postgres_str)"
      ],
      "execution_count": null,
      "outputs": [
        {
          "output_type": "stream",
          "text": [
            "/usr/local/lib/python3.6/dist-packages/psycopg2/__init__.py:144: UserWarning: The psycopg2 wheel package will be renamed from release 2.8; in order to keep installing from binary please use \"pip install psycopg2-binary\" instead. For details see: <http://initd.org/psycopg/docs/install.html#binary-install-from-pypi>.\n",
            "  \"\"\")\n"
          ],
          "name": "stderr"
        }
      ]
    },
    {
      "cell_type": "markdown",
      "metadata": {
        "id": "v7INfu7ugIr2",
        "colab_type": "text"
      },
      "source": [
        "# 3 - Conhecendo as tabelas disponíveis"
      ]
    },
    {
      "cell_type": "code",
      "metadata": {
        "id": "x-Z4X6kGgQT6",
        "colab_type": "code",
        "colab": {
          "base_uri": "https://localhost:8080/",
          "height": 79
        },
        "outputId": "67d6d57c-7799-4cd5-deda-965064456bda"
      },
      "source": [
        "matches = pd.read_sql_query('''SELECT * FROM Matches limit 1;''', cnx)\n",
        "matches.head()"
      ],
      "execution_count": null,
      "outputs": [
        {
          "output_type": "execute_result",
          "data": {
            "text/html": [
              "<div>\n",
              "<style scoped>\n",
              "    .dataframe tbody tr th:only-of-type {\n",
              "        vertical-align: middle;\n",
              "    }\n",
              "\n",
              "    .dataframe tbody tr th {\n",
              "        vertical-align: top;\n",
              "    }\n",
              "\n",
              "    .dataframe thead th {\n",
              "        text-align: right;\n",
              "    }\n",
              "</style>\n",
              "<table border=\"1\" class=\"dataframe\">\n",
              "  <thead>\n",
              "    <tr style=\"text-align: right;\">\n",
              "      <th></th>\n",
              "      <th>match_id</th>\n",
              "      <th>match_type</th>\n",
              "      <th>player_1</th>\n",
              "      <th>player_2</th>\n",
              "      <th>match_date</th>\n",
              "      <th>match_duration</th>\n",
              "    </tr>\n",
              "  </thead>\n",
              "  <tbody>\n",
              "    <tr>\n",
              "      <th>0</th>\n",
              "      <td>M02109295</td>\n",
              "      <td>Ranked</td>\n",
              "      <td>DA1X9864</td>\n",
              "      <td>IA8T7256</td>\n",
              "      <td>2019-05-20</td>\n",
              "      <td>00:10:00</td>\n",
              "    </tr>\n",
              "  </tbody>\n",
              "</table>\n",
              "</div>"
            ],
            "text/plain": [
              "    match_id match_type  player_1  player_2  match_date match_duration\n",
              "0  M02109295     Ranked  DA1X9864  IA8T7256  2019-05-20       00:10:00"
            ]
          },
          "metadata": {
            "tags": []
          },
          "execution_count": 7
        }
      ]
    },
    {
      "cell_type": "code",
      "metadata": {
        "id": "ngNZQ9s_gVPQ",
        "colab_type": "code",
        "colab": {
          "base_uri": "https://localhost:8080/",
          "height": 79
        },
        "outputId": "46957e1b-93e2-4f1d-bcec-6bfa27342c22"
      },
      "source": [
        "goals = pd.read_sql_query('''SELECT * FROM Goals limit 1;''', cnx)\n",
        "goals.head()"
      ],
      "execution_count": null,
      "outputs": [
        {
          "output_type": "execute_result",
          "data": {
            "text/html": [
              "<div>\n",
              "<style scoped>\n",
              "    .dataframe tbody tr th:only-of-type {\n",
              "        vertical-align: middle;\n",
              "    }\n",
              "\n",
              "    .dataframe tbody tr th {\n",
              "        vertical-align: top;\n",
              "    }\n",
              "\n",
              "    .dataframe thead th {\n",
              "        text-align: right;\n",
              "    }\n",
              "</style>\n",
              "<table border=\"1\" class=\"dataframe\">\n",
              "  <thead>\n",
              "    <tr style=\"text-align: right;\">\n",
              "      <th></th>\n",
              "      <th>goal_id</th>\n",
              "      <th>match_id</th>\n",
              "      <th>goal_timestamp</th>\n",
              "      <th>player_id</th>\n",
              "    </tr>\n",
              "  </thead>\n",
              "  <tbody>\n",
              "    <tr>\n",
              "      <th>0</th>\n",
              "      <td>1</td>\n",
              "      <td>M02178449</td>\n",
              "      <td>00:09:48</td>\n",
              "      <td>SV4W8695</td>\n",
              "    </tr>\n",
              "  </tbody>\n",
              "</table>\n",
              "</div>"
            ],
            "text/plain": [
              "   goal_id   match_id goal_timestamp player_id\n",
              "0        1  M02178449       00:09:48  SV4W8695"
            ]
          },
          "metadata": {
            "tags": []
          },
          "execution_count": 8
        }
      ]
    },
    {
      "cell_type": "markdown",
      "metadata": {
        "id": "qjv28hiagvLn",
        "colab_type": "text"
      },
      "source": [
        "# 4 - Proposta de solução:\n",
        "\n",
        "\n",
        "\n",
        "1.  Fazer um join entre as tabelas de Matches e Goals, agruprando por match_id e match_type, podendo assim ter uma visão geral do jogo. \n",
        "\n",
        "2.   Gerar uma nova coleção relacionando os dados dos jogadores com as partidas por estes realizadas, podendo assim obter as informações individuais de cada jogador.\n",
        "\n",
        "1.   Verificar os dados e realizar a limpeza (se necesario)\n",
        "\n",
        "1.   Foi identificado que existem dois tipos de jogos (match_type). Será feito analise individual para cada tipo, a fim de se encontrar clusters de jogadores dentro de cada um destes tipos.\n",
        "\n",
        "1.   Gerar clusters para cada um dos tipos de partida (match_type), para isso deverá ter duas coleções (uma para cada match_type\n",
        "\n",
        "1.   Para o processo de clusterização será utilizado a propriedade quantidade de partidas e a média de vitórias por jogo. Dessa maneira é possível nivelar os jogadores em categorias por meio de suas similaridades.\n",
        "\n",
        "2.   Padronizar os valores númericos (sklearn MinMaxScaler)\n",
        "\n",
        "6.   Aplicar o Método Elbow para descobrir o número de clusters de cada um dos tipos de jogo\n",
        "\n",
        "2.   Geração de Clusters\n",
        "\n",
        "8.   Apresentação dos resultados\n",
        "\n",
        "\n",
        "\n",
        "\n",
        "\n",
        "\n",
        "\n",
        "\n",
        "\n",
        "\n",
        "\n"
      ]
    },
    {
      "cell_type": "markdown",
      "metadata": {
        "id": "dtnFeLJm_2Wn",
        "colab_type": "text"
      },
      "source": [
        "# Busca informações do banco de dados"
      ]
    },
    {
      "cell_type": "code",
      "metadata": {
        "id": "NkjIRTYlkVwJ",
        "colab_type": "code",
        "colab": {}
      },
      "source": [
        "# sql que realiza o join das tabelas\n",
        "query = \"\"\"SELECT\n",
        "  match.match_id,\n",
        "  match.match_type,\n",
        "  max(match.player_1) player_1,\n",
        "  SUM(\n",
        "    CASE WHEN goal.player_id = match.player_1 THEN 1 ELSE 0 END\n",
        "  ) score_player_1,\n",
        "  max(match.player_2) player_2,\n",
        "  SUM(\n",
        "    CASE WHEN goal.player_id = match.player_2 THEN 1 ELSE 0 END\n",
        "  ) score_player_2\n",
        "FROM\n",
        "  Matches as match\n",
        "  INNER JOIN Goals as goal on match.match_id = goal.match_id\n",
        "GROUP BY\n",
        "  match.match_id,\n",
        "  match.match_type;\"\"\"\n",
        "\n",
        "# realiza a consulta\n",
        "result = pd.read_sql_query(query, cnx)"
      ],
      "execution_count": null,
      "outputs": []
    },
    {
      "cell_type": "code",
      "metadata": {
        "id": "8W80u4bdkrT8",
        "colab_type": "code",
        "colab": {
          "base_uri": "https://localhost:8080/",
          "height": 294
        },
        "outputId": "7d8a8f8f-d7b8-4c20-aacf-48592f6008c4"
      },
      "source": [
        "# estatistica descritiva\n",
        "result.describe()"
      ],
      "execution_count": null,
      "outputs": [
        {
          "output_type": "execute_result",
          "data": {
            "text/html": [
              "<div>\n",
              "<style scoped>\n",
              "    .dataframe tbody tr th:only-of-type {\n",
              "        vertical-align: middle;\n",
              "    }\n",
              "\n",
              "    .dataframe tbody tr th {\n",
              "        vertical-align: top;\n",
              "    }\n",
              "\n",
              "    .dataframe thead th {\n",
              "        text-align: right;\n",
              "    }\n",
              "</style>\n",
              "<table border=\"1\" class=\"dataframe\">\n",
              "  <thead>\n",
              "    <tr style=\"text-align: right;\">\n",
              "      <th></th>\n",
              "      <th>score_player_1</th>\n",
              "      <th>score_player_2</th>\n",
              "    </tr>\n",
              "  </thead>\n",
              "  <tbody>\n",
              "    <tr>\n",
              "      <th>count</th>\n",
              "      <td>99495.000000</td>\n",
              "      <td>99495.000000</td>\n",
              "    </tr>\n",
              "    <tr>\n",
              "      <th>mean</th>\n",
              "      <td>5.288065</td>\n",
              "      <td>0.000653</td>\n",
              "    </tr>\n",
              "    <tr>\n",
              "      <th>std</th>\n",
              "      <td>2.264055</td>\n",
              "      <td>0.064891</td>\n",
              "    </tr>\n",
              "    <tr>\n",
              "      <th>min</th>\n",
              "      <td>1.000000</td>\n",
              "      <td>0.000000</td>\n",
              "    </tr>\n",
              "    <tr>\n",
              "      <th>25%</th>\n",
              "      <td>4.000000</td>\n",
              "      <td>0.000000</td>\n",
              "    </tr>\n",
              "    <tr>\n",
              "      <th>50%</th>\n",
              "      <td>5.000000</td>\n",
              "      <td>0.000000</td>\n",
              "    </tr>\n",
              "    <tr>\n",
              "      <th>75%</th>\n",
              "      <td>7.000000</td>\n",
              "      <td>0.000000</td>\n",
              "    </tr>\n",
              "    <tr>\n",
              "      <th>max</th>\n",
              "      <td>18.000000</td>\n",
              "      <td>9.000000</td>\n",
              "    </tr>\n",
              "  </tbody>\n",
              "</table>\n",
              "</div>"
            ],
            "text/plain": [
              "       score_player_1  score_player_2\n",
              "count    99495.000000    99495.000000\n",
              "mean         5.288065        0.000653\n",
              "std          2.264055        0.064891\n",
              "min          1.000000        0.000000\n",
              "25%          4.000000        0.000000\n",
              "50%          5.000000        0.000000\n",
              "75%          7.000000        0.000000\n",
              "max         18.000000        9.000000"
            ]
          },
          "metadata": {
            "tags": []
          },
          "execution_count": 10
        }
      ]
    },
    {
      "cell_type": "code",
      "metadata": {
        "id": "yHZxZu9Vkydt",
        "colab_type": "code",
        "colab": {
          "base_uri": "https://localhost:8080/",
          "height": 139
        },
        "outputId": "d42dbb53-6f9e-4dcc-ea82-0dfb8f6847c2"
      },
      "source": [
        "# Verificando registros nulos:\n",
        "result.isnull().sum()"
      ],
      "execution_count": null,
      "outputs": [
        {
          "output_type": "execute_result",
          "data": {
            "text/plain": [
              "match_id          0\n",
              "match_type        0\n",
              "player_1          0\n",
              "score_player_1    0\n",
              "player_2          0\n",
              "score_player_2    0\n",
              "dtype: int64"
            ]
          },
          "metadata": {
            "tags": []
          },
          "execution_count": 11
        }
      ]
    },
    {
      "cell_type": "code",
      "metadata": {
        "id": "kQCjjzWwlCfo",
        "colab_type": "code",
        "colab": {
          "base_uri": "https://localhost:8080/",
          "height": 35
        },
        "outputId": "87e1d3d6-b943-4322-c535-9dfce5a57346"
      },
      "source": [
        "# pega todos os tipos de jogos possíves\n",
        "types_game = result.match_type.unique()\n",
        "types_game"
      ],
      "execution_count": null,
      "outputs": [
        {
          "output_type": "execute_result",
          "data": {
            "text/plain": [
              "array(['Ranked', 'Casual'], dtype=object)"
            ]
          },
          "metadata": {
            "tags": []
          },
          "execution_count": 12
        }
      ]
    },
    {
      "cell_type": "markdown",
      "metadata": {
        "id": "dz5k7fnKsYUQ",
        "colab_type": "text"
      },
      "source": [
        "# Metódos utilizados para processamento dos dados"
      ]
    },
    {
      "cell_type": "code",
      "metadata": {
        "id": "mw93klXblOQa",
        "colab_type": "code",
        "colab": {}
      },
      "source": [
        "# metodo para gerar as informações de cada um jogos jogadores, para cada tipo de jogo (Ranked, Casual)\n",
        "positions_player = {'player_1': (\"score_player_1\", \"score_player_2\"),'player_2': (\"score_player_2\", \"score_player_1\") }\n",
        "def get_data_player_by_game_type(player_id, position_player, game_type):\n",
        "\n",
        "  score_player = positions_player[position_player][0] # coluna que tem o score do jogador\n",
        "  score_opponent = positions_player[position_player][1] # coluna que tem o score do adversario\n",
        "\n",
        "  # dados do jogador para determinado tipo de jogo\n",
        "  data = result[(result[position_player] == player_id) & (result.match_type == game_type)]\n",
        "  # quantidade de vitorias\n",
        "  win = len(data[data[score_player] > data[score_opponent]])\n",
        "  # quantidade de derrotas\n",
        "  lost = len(data[data[score_player] < data[score_opponent]])\n",
        "  # quantidade de empates\n",
        "  draw = len(data[data[score_player] == data[score_opponent]])  \n",
        "  # total de gols pró\n",
        "  total_score = data[score_player].sum()\n",
        "  # total de gols sofridos\n",
        "  total_score_conceded = data[score_opponent].sum()\n",
        "\n",
        "  return win, lost, draw, total_score, total_score_conceded\n"
      ],
      "execution_count": null,
      "outputs": []
    },
    {
      "cell_type": "code",
      "metadata": {
        "id": "Fs7YflwWnhVa",
        "colab_type": "code",
        "colab": {}
      },
      "source": [
        "def create_frame(data):\n",
        "  # colunas do novo data frame\n",
        "  columns = [\"name\", \"country\", \"win\", \"lost\", \"draw\", \"games\", \"total_score\", \"total_score_conceded\"]\n",
        "  # novo data frame\n",
        "  df = pd.DataFrame(data, columns=columns)\n",
        "\n",
        "  return df"
      ],
      "execution_count": null,
      "outputs": []
    },
    {
      "cell_type": "code",
      "metadata": {
        "id": "za0BymQco3te",
        "colab_type": "code",
        "colab": {}
      },
      "source": [
        "from sklearn import preprocessing\n",
        "\n",
        "# sumarizando os dados com o sklearn MinMaxScaler\n",
        "def scaler_data(data, features):\n",
        "  scaler = preprocessing.MinMaxScaler(feature_range=(0,1))\n",
        "  data[features] = scaler.fit_transform(data[features])"
      ],
      "execution_count": null,
      "outputs": []
    },
    {
      "cell_type": "code",
      "metadata": {
        "id": "G6JP26M5qUdw",
        "colab_type": "code",
        "colab": {}
      },
      "source": [
        "#features que serão utilizados no processo de cluster\n",
        "features_clusterization = ['win', 'lost','draw','games','total_score','total_score_conceded']"
      ],
      "execution_count": null,
      "outputs": []
    },
    {
      "cell_type": "code",
      "metadata": {
        "id": "HqgTe0njo6Xr",
        "colab_type": "code",
        "colab": {}
      },
      "source": [
        "import random\n",
        "\n",
        "def get_colors():\n",
        "  number_of_colors = 8\n",
        "\n",
        "  color = [\"#\"+''.join([random.choice('0123456789ABCDEF') for j in range(6)])\n",
        "             for i in range(number_of_colors)]\n",
        "\n",
        "  return color"
      ],
      "execution_count": null,
      "outputs": []
    },
    {
      "cell_type": "markdown",
      "metadata": {
        "id": "f-2-PfmBsuVJ",
        "colab_type": "text"
      },
      "source": [
        "# Criação do data set de cada um dos tipos de jogos"
      ]
    },
    {
      "cell_type": "code",
      "metadata": {
        "id": "dRYPSyeZlXrx",
        "colab_type": "code",
        "colab": {}
      },
      "source": [
        "# dicionario com os dados dos jogadores em cada um dos tipos de jogos\n",
        "data_players_by_game = dict()\n",
        "\n",
        "for game_type in types_game:\n",
        "  data_players_by_game[game_type] = []\n",
        "\n",
        "for player in players:  \n",
        "  name = player[\"player_name\"] # nome do jogador\n",
        "  country = player[\"country\"] # país do jogador\n",
        "  id = player[\"player_id\"] # id do jogador\n",
        "\n",
        "  for game_type in types_game:\n",
        "    #informações quando o jogador é player_1\n",
        "    player_1 = get_data_player_by_game_type(id, \"player_1\", game_type)\n",
        "    #informações quando o jogador é player_2\n",
        "    player_2 = get_data_player_by_game_type(id, \"player_2\", game_type)\n",
        "\n",
        "    win = player_1[0] + player_2[0] # soma vitorias    \n",
        "    lost = player_1[1] + player_2[1] # soma derrotas    \n",
        "    draw = player_1[2] + player_2[2] # soma empates\n",
        "    total_score = player_1[3] + player_2[3] # soma total de gols feitos\n",
        "    total_score_conceded = player_1[4] + player_2[4] # soma total de gols sofridos \n",
        "    \n",
        "    # adiciona uma tupla com os valores do jogador no dicionario\n",
        "    data_players_by_game[game_type].append((name, country, win, lost, draw, win + lost + draw, total_score, total_score_conceded))"
      ],
      "execution_count": null,
      "outputs": []
    },
    {
      "cell_type": "markdown",
      "metadata": {
        "colab_type": "text",
        "id": "uYc5DmR2Cv8o"
      },
      "source": [
        "# Clusters para jogos Casuais"
      ]
    },
    {
      "cell_type": "code",
      "metadata": {
        "colab_type": "code",
        "id": "xyICF8oYCv8q",
        "colab": {
          "base_uri": "https://localhost:8080/"
        },
        "outputId": "afdcaa36-d296-423c-8306-38298f650b97"
      },
      "source": [
        "df_games_casual = create_frame(data_players_by_game[types_game[1]])\n",
        "\n",
        "#estatistica descritiva\n",
        "df_games_casual.describe()"
      ],
      "execution_count": null,
      "outputs": [
        {
          "output_type": "execute_result",
          "data": {
            "text/html": [
              "<div>\n",
              "<style scoped>\n",
              "    .dataframe tbody tr th:only-of-type {\n",
              "        vertical-align: middle;\n",
              "    }\n",
              "\n",
              "    .dataframe tbody tr th {\n",
              "        vertical-align: top;\n",
              "    }\n",
              "\n",
              "    .dataframe thead th {\n",
              "        text-align: right;\n",
              "    }\n",
              "</style>\n",
              "<table border=\"1\" class=\"dataframe\">\n",
              "  <thead>\n",
              "    <tr style=\"text-align: right;\">\n",
              "      <th></th>\n",
              "      <th>win</th>\n",
              "      <th>lost</th>\n",
              "      <th>draw</th>\n",
              "      <th>games</th>\n",
              "      <th>total_score</th>\n",
              "      <th>total_score_conceded</th>\n",
              "    </tr>\n",
              "  </thead>\n",
              "  <tbody>\n",
              "    <tr>\n",
              "      <th>count</th>\n",
              "      <td>200.000000</td>\n",
              "      <td>200.000000</td>\n",
              "      <td>200.0</td>\n",
              "      <td>200.000000</td>\n",
              "      <td>200.000000</td>\n",
              "      <td>200.000000</td>\n",
              "    </tr>\n",
              "    <tr>\n",
              "      <th>mean</th>\n",
              "      <td>5.430000</td>\n",
              "      <td>5.210000</td>\n",
              "      <td>0.0</td>\n",
              "      <td>10.640000</td>\n",
              "      <td>29.210000</td>\n",
              "      <td>27.680000</td>\n",
              "    </tr>\n",
              "    <tr>\n",
              "      <th>std</th>\n",
              "      <td>2.302522</td>\n",
              "      <td>2.271939</td>\n",
              "      <td>0.0</td>\n",
              "      <td>3.215915</td>\n",
              "      <td>13.728374</td>\n",
              "      <td>12.623564</td>\n",
              "    </tr>\n",
              "    <tr>\n",
              "      <th>min</th>\n",
              "      <td>0.000000</td>\n",
              "      <td>1.000000</td>\n",
              "      <td>0.0</td>\n",
              "      <td>2.000000</td>\n",
              "      <td>0.000000</td>\n",
              "      <td>3.000000</td>\n",
              "    </tr>\n",
              "    <tr>\n",
              "      <th>25%</th>\n",
              "      <td>4.000000</td>\n",
              "      <td>3.750000</td>\n",
              "      <td>0.0</td>\n",
              "      <td>8.000000</td>\n",
              "      <td>19.000000</td>\n",
              "      <td>18.000000</td>\n",
              "    </tr>\n",
              "    <tr>\n",
              "      <th>50%</th>\n",
              "      <td>5.000000</td>\n",
              "      <td>5.000000</td>\n",
              "      <td>0.0</td>\n",
              "      <td>11.000000</td>\n",
              "      <td>28.000000</td>\n",
              "      <td>27.000000</td>\n",
              "    </tr>\n",
              "    <tr>\n",
              "      <th>75%</th>\n",
              "      <td>7.000000</td>\n",
              "      <td>7.000000</td>\n",
              "      <td>0.0</td>\n",
              "      <td>13.000000</td>\n",
              "      <td>37.000000</td>\n",
              "      <td>37.250000</td>\n",
              "    </tr>\n",
              "    <tr>\n",
              "      <th>max</th>\n",
              "      <td>12.000000</td>\n",
              "      <td>11.000000</td>\n",
              "      <td>0.0</td>\n",
              "      <td>20.000000</td>\n",
              "      <td>76.000000</td>\n",
              "      <td>60.000000</td>\n",
              "    </tr>\n",
              "  </tbody>\n",
              "</table>\n",
              "</div>"
            ],
            "text/plain": [
              "              win        lost  ...  total_score  total_score_conceded\n",
              "count  200.000000  200.000000  ...   200.000000            200.000000\n",
              "mean     5.430000    5.210000  ...    29.210000             27.680000\n",
              "std      2.302522    2.271939  ...    13.728374             12.623564\n",
              "min      0.000000    1.000000  ...     0.000000              3.000000\n",
              "25%      4.000000    3.750000  ...    19.000000             18.000000\n",
              "50%      5.000000    5.000000  ...    28.000000             27.000000\n",
              "75%      7.000000    7.000000  ...    37.000000             37.250000\n",
              "max     12.000000   11.000000  ...    76.000000             60.000000\n",
              "\n",
              "[8 rows x 6 columns]"
            ]
          },
          "metadata": {
            "tags": []
          },
          "execution_count": 19
        }
      ]
    },
    {
      "cell_type": "code",
      "metadata": {
        "id": "6xvPA8uDVaSf",
        "colab_type": "code",
        "colab": {}
      },
      "source": [
        "# copia para um data frame que será usado para clusterização\n",
        "df_games_casual_standardized = df_games_casual.copy()"
      ],
      "execution_count": null,
      "outputs": []
    },
    {
      "cell_type": "code",
      "metadata": {
        "colab_type": "code",
        "id": "IUmuxurWCv8t",
        "colab": {}
      },
      "source": [
        "\n",
        "df_games_casual_standardized[\"win_mean\"] = df_games_casual_standardized.win / df_games_casual_standardized.games"
      ],
      "execution_count": null,
      "outputs": []
    },
    {
      "cell_type": "code",
      "metadata": {
        "colab_type": "code",
        "id": "Vh5wIvb0Cv8y",
        "colab": {}
      },
      "source": [
        "scaler_data(df_games_casual_standardized, features_clusterization)"
      ],
      "execution_count": null,
      "outputs": []
    },
    {
      "cell_type": "code",
      "metadata": {
        "colab_type": "code",
        "id": "hu3WZT9YCv80",
        "colab": {}
      },
      "source": [
        "data_to_cluster_casual =  df_games_casual_standardized[['win_mean','games']].iloc[: , :].values"
      ],
      "execution_count": null,
      "outputs": []
    },
    {
      "cell_type": "code",
      "metadata": {
        "colab_type": "code",
        "id": "jL8qd14uCv86",
        "colab": {
          "base_uri": "https://localhost:8080/"
        },
        "outputId": "8a4b55cb-2be1-4832-fe52-8cc7d391b095"
      },
      "source": [
        "from sklearn.cluster import KMeans\n",
        "import matplotlib.pyplot as plt\n",
        "\n",
        "# calcula a inertia, para saber o K ótimo\n",
        "inertia = []\n",
        "for n in range(1 , 11):\n",
        "    algorithm = (KMeans(n_clusters = n))\n",
        "    algorithm.fit(data_to_cluster_casual)\n",
        "    inertia.append(algorithm.inertia_)\n",
        "\n",
        "# plot da inercia\n",
        "plt.figure(1 , figsize = (15 ,6))\n",
        "plt.plot(np.arange(1 , 11) , inertia , 'o')\n",
        "plt.plot(np.arange(1 , 11) , inertia , '-' , alpha = 0.5)\n",
        "plt.xlabel('Número de Clusters') , plt.ylabel('Soma das Distâncias Q intra Clusters')\n",
        "plt.show()"
      ],
      "execution_count": null,
      "outputs": [
        {
          "output_type": "display_data",
          "data": {
            "image/png": "[encoded data removed]",
            "text/plain": [
              "<Figure size 1080x432 with 1 Axes>"
            ]
          },
          "metadata": {
            "tags": [],
            "needs_background": "light"
          }
        }
      ]
    },
    {
      "cell_type": "code",
      "metadata": {
        "id": "FLJT9mkBFNrx",
        "colab_type": "code",
        "colab": {
          "base_uri": "https://localhost:8080/"
        },
        "outputId": "dca11612-534c-4ff7-b3d1-2a1136358a4c"
      },
      "source": [
        "#estabilização da curva \n",
        "inertia"
      ],
      "execution_count": null,
      "outputs": [
        {
          "output_type": "execute_result",
          "data": {
            "text/plain": [
              "[11.735051660926459,\n",
              " 7.568847609012948,\n",
              " 4.785473316465768,\n",
              " 3.73583315336967,\n",
              " 3.0614131985022297,\n",
              " 2.5533221997822952,\n",
              " 2.184299922232546,\n",
              " 1.9514622697245896,\n",
              " 1.779569696988828,\n",
              " 1.614262241000955]"
            ]
          },
          "metadata": {
            "tags": []
          },
          "execution_count": 25
        }
      ]
    },
    {
      "cell_type": "code",
      "metadata": {
        "colab_type": "code",
        "id": "78GxpodZCv8-",
        "colab": {
          "base_uri": "https://localhost:8080/"
        },
        "outputId": "093c3b11-9ec7-4bc4-e063-89b1187e89f7"
      },
      "source": [
        "# Inicializando e Computando o KMeans com o valor de 3 clusters:\n",
        "algorithm = (KMeans(n_clusters =3 ))\n",
        "algorithm.fit(data_to_cluster_casual)"
      ],
      "execution_count": null,
      "outputs": [
        {
          "output_type": "execute_result",
          "data": {
            "text/plain": [
              "KMeans(algorithm='auto', copy_x=True, init='k-means++', max_iter=300,\n",
              "       n_clusters=3, n_init=10, n_jobs=None, precompute_distances='auto',\n",
              "       random_state=None, tol=0.0001, verbose=0)"
            ]
          },
          "metadata": {
            "tags": []
          },
          "execution_count": 26
        }
      ]
    },
    {
      "cell_type": "code",
      "metadata": {
        "colab_type": "code",
        "id": "2L0IdnmmCv9A",
        "colab": {}
      },
      "source": [
        "# adiciona uma coluna com a categoria de cada jogador\n",
        "df_games_casual[\"categorie\"] = algorithm.labels_"
      ],
      "execution_count": null,
      "outputs": []
    },
    {
      "cell_type": "markdown",
      "metadata": {
        "id": "NI6g9OI2Ikyj",
        "colab_type": "text"
      },
      "source": [
        "# RESULTADO JOGOS CASUAIS:\n",
        "\n",
        "Para os jogos casuais os jogadores foram dividos em 3 categorias.\n",
        "Onde cada categoria conta com:\n",
        "\n",
        "Categoria 1    82\n",
        "\n",
        "Categoria 0    61\n",
        "\n",
        "Categoria 2    57\n",
        "\n",
        "A planilha \"casual.csv\" contém o nome dos jogadores e suas respectivas categorias.\n",
        "\n",
        "Países com maior número de vitórias:\n",
        "\n",
        "1 - Myanmar\n",
        "\n",
        "2 - Spain\n",
        "\n",
        "3 - Equatorial Guinea\n",
        "\n",
        "4 - Togo\n",
        "\n",
        "5 - Marshall Islands"
      ]
    },
    {
      "cell_type": "code",
      "metadata": {
        "id": "QhNbTNJuVPQO",
        "colab_type": "code",
        "colab": {
          "base_uri": "https://localhost:8080/",
          "height": 499
        },
        "outputId": "64825f19-9b89-4cd6-9f8b-a0732441d281"
      },
      "source": [
        "df_games_casual.groupby(\"categorie\").aggregate(\"mean\").plot.bar(figsize=(10,7.5))\n",
        "plt.title(\"Dados por categoria\")"
      ],
      "execution_count": null,
      "outputs": [
        {
          "output_type": "execute_result",
          "data": {
            "text/plain": [
              "Text(0.5, 1.0, 'Dados por categoria')"
            ]
          },
          "metadata": {
            "tags": []
          },
          "execution_count": 28
        },
        {
          "output_type": "display_data",
          "data": {
            "image/png": "[encoded data removed]",
            "text/plain": [
              "<Figure size 720x540 with 1 Axes>"
            ]
          },
          "metadata": {
            "tags": [],
            "needs_background": "light"
          }
        }
      ]
    },
    {
      "cell_type": "code",
      "metadata": {
        "colab_type": "code",
        "id": "IqWMxwjRCv9L",
        "colab": {
          "base_uri": "https://localhost:8080/",
          "height": 87
        },
        "outputId": "4cd05723-9e6d-4aa2-ea2e-04d70dd60475"
      },
      "source": [
        "df_games_casual.categorie.value_counts()"
      ],
      "execution_count": null,
      "outputs": [
        {
          "output_type": "execute_result",
          "data": {
            "text/plain": [
              "1    82\n",
              "2    61\n",
              "0    57\n",
              "Name: categorie, dtype: int64"
            ]
          },
          "metadata": {
            "tags": []
          },
          "execution_count": 29
        }
      ]
    },
    {
      "cell_type": "code",
      "metadata": {
        "colab_type": "code",
        "id": "S8lvESxmCv9Q",
        "colab": {}
      },
      "source": [
        "df_games_casual.to_csv(\"casual.csv\", sep=\";\")"
      ],
      "execution_count": null,
      "outputs": []
    },
    {
      "cell_type": "code",
      "metadata": {
        "colab_type": "code",
        "id": "CS4khTHXCv9S",
        "colab": {
          "base_uri": "https://localhost:8080/",
          "height": 295
        },
        "outputId": "5ec9dcb1-0358-452d-ae84-0abaf2f29da5"
      },
      "source": [
        "color = get_colors()\n",
        "\n",
        "plt.scatter(data_to_cluster_casual[:, 0], data_to_cluster_casual[:,1], s = 100, c = algorithm.labels_)\n",
        "for centroid in range(len(algorithm.cluster_centers_)):  \n",
        "  plt.scatter(algorithm.cluster_centers_[centroid:, 0], algorithm.cluster_centers_[centroid:, 1], s = 300, c = color[centroid],label = str(algorithm.labels_[centroid]))\n",
        "\n",
        "plt.title('Vitórias x Jogos')\n",
        "plt.xlabel('Vitórias')\n",
        "plt.ylabel('Jogos')\n",
        "plt.legend()\n",
        "\n",
        "plt.show()"
      ],
      "execution_count": null,
      "outputs": [
        {
          "output_type": "display_data",
          "data": {
            "image/png": "[encoded data removed]",
            "text/plain": [
              "<Figure size 432x288 with 1 Axes>"
            ]
          },
          "metadata": {
            "tags": [],
            "needs_background": "light"
          }
        }
      ]
    },
    {
      "cell_type": "code",
      "metadata": {
        "id": "OpubLgU-bjv8",
        "colab_type": "code",
        "colab": {
          "base_uri": "https://localhost:8080/",
          "height": 583
        },
        "outputId": "8d5cb840-4289-4866-fc15-91c5c6ec4db7"
      },
      "source": [
        "df_games_casual.groupby(\"country\").aggregate(\"sum\").sort_values(by='win', ascending=False) \\\n",
        ".head(5).win.plot.bar(figsize=(10,7.5) )\n",
        "plt.title(\"Vitórias por país\")"
      ],
      "execution_count": null,
      "outputs": [
        {
          "output_type": "execute_result",
          "data": {
            "text/plain": [
              "Text(0.5, 1.0, 'Vitórias por país')"
            ]
          },
          "metadata": {
            "tags": []
          },
          "execution_count": 32
        },
        {
          "output_type": "display_data",
          "data": {
            "image/png": "[encoded data removed]",
            "text/plain": [
              "<Figure size 720x540 with 1 Axes>"
            ]
          },
          "metadata": {
            "tags": [],
            "needs_background": "light"
          }
        }
      ]
    },
    {
      "cell_type": "markdown",
      "metadata": {
        "id": "-MXQgGSKs_AF",
        "colab_type": "text"
      },
      "source": [
        "# Clusters para jogos Rankeados"
      ]
    },
    {
      "cell_type": "code",
      "metadata": {
        "id": "adObT21WogCg",
        "colab_type": "code",
        "colab": {
          "base_uri": "https://localhost:8080/"
        },
        "outputId": "24b8aa5b-bae7-446b-f457-30f986d7d1d0"
      },
      "source": [
        "df_games_ranked = create_frame(data_players_by_game[types_game[0]])\n",
        "\n",
        "#estatistica descritiva\n",
        "df_games_ranked.describe()"
      ],
      "execution_count": null,
      "outputs": [
        {
          "output_type": "execute_result",
          "data": {
            "text/html": [
              "<div>\n",
              "<style scoped>\n",
              "    .dataframe tbody tr th:only-of-type {\n",
              "        vertical-align: middle;\n",
              "    }\n",
              "\n",
              "    .dataframe tbody tr th {\n",
              "        vertical-align: top;\n",
              "    }\n",
              "\n",
              "    .dataframe thead th {\n",
              "        text-align: right;\n",
              "    }\n",
              "</style>\n",
              "<table border=\"1\" class=\"dataframe\">\n",
              "  <thead>\n",
              "    <tr style=\"text-align: right;\">\n",
              "      <th></th>\n",
              "      <th>win</th>\n",
              "      <th>lost</th>\n",
              "      <th>draw</th>\n",
              "      <th>games</th>\n",
              "      <th>total_score</th>\n",
              "      <th>total_score_conceded</th>\n",
              "    </tr>\n",
              "  </thead>\n",
              "  <tbody>\n",
              "    <tr>\n",
              "      <th>count</th>\n",
              "      <td>200.000000</td>\n",
              "      <td>200.000000</td>\n",
              "      <td>200.0</td>\n",
              "      <td>200.00000</td>\n",
              "      <td>200.000000</td>\n",
              "      <td>200.000000</td>\n",
              "    </tr>\n",
              "    <tr>\n",
              "      <th>mean</th>\n",
              "      <td>5.415000</td>\n",
              "      <td>4.825000</td>\n",
              "      <td>0.0</td>\n",
              "      <td>10.24000</td>\n",
              "      <td>29.415000</td>\n",
              "      <td>25.825000</td>\n",
              "    </tr>\n",
              "    <tr>\n",
              "      <th>std</th>\n",
              "      <td>2.237815</td>\n",
              "      <td>2.181322</td>\n",
              "      <td>0.0</td>\n",
              "      <td>3.25351</td>\n",
              "      <td>12.907587</td>\n",
              "      <td>12.769089</td>\n",
              "    </tr>\n",
              "    <tr>\n",
              "      <th>min</th>\n",
              "      <td>1.000000</td>\n",
              "      <td>0.000000</td>\n",
              "      <td>0.0</td>\n",
              "      <td>3.00000</td>\n",
              "      <td>5.000000</td>\n",
              "      <td>0.000000</td>\n",
              "    </tr>\n",
              "    <tr>\n",
              "      <th>25%</th>\n",
              "      <td>4.000000</td>\n",
              "      <td>3.000000</td>\n",
              "      <td>0.0</td>\n",
              "      <td>8.00000</td>\n",
              "      <td>19.750000</td>\n",
              "      <td>16.750000</td>\n",
              "    </tr>\n",
              "    <tr>\n",
              "      <th>50%</th>\n",
              "      <td>5.000000</td>\n",
              "      <td>4.500000</td>\n",
              "      <td>0.0</td>\n",
              "      <td>10.00000</td>\n",
              "      <td>28.500000</td>\n",
              "      <td>25.000000</td>\n",
              "    </tr>\n",
              "    <tr>\n",
              "      <th>75%</th>\n",
              "      <td>7.000000</td>\n",
              "      <td>6.000000</td>\n",
              "      <td>0.0</td>\n",
              "      <td>12.00000</td>\n",
              "      <td>38.250000</td>\n",
              "      <td>34.250000</td>\n",
              "    </tr>\n",
              "    <tr>\n",
              "      <th>max</th>\n",
              "      <td>12.000000</td>\n",
              "      <td>11.000000</td>\n",
              "      <td>0.0</td>\n",
              "      <td>20.00000</td>\n",
              "      <td>78.000000</td>\n",
              "      <td>58.000000</td>\n",
              "    </tr>\n",
              "  </tbody>\n",
              "</table>\n",
              "</div>"
            ],
            "text/plain": [
              "              win        lost  ...  total_score  total_score_conceded\n",
              "count  200.000000  200.000000  ...   200.000000            200.000000\n",
              "mean     5.415000    4.825000  ...    29.415000             25.825000\n",
              "std      2.237815    2.181322  ...    12.907587             12.769089\n",
              "min      1.000000    0.000000  ...     5.000000              0.000000\n",
              "25%      4.000000    3.000000  ...    19.750000             16.750000\n",
              "50%      5.000000    4.500000  ...    28.500000             25.000000\n",
              "75%      7.000000    6.000000  ...    38.250000             34.250000\n",
              "max     12.000000   11.000000  ...    78.000000             58.000000\n",
              "\n",
              "[8 rows x 6 columns]"
            ]
          },
          "metadata": {
            "tags": []
          },
          "execution_count": 33
        }
      ]
    },
    {
      "cell_type": "code",
      "metadata": {
        "id": "-txL52smprXm",
        "colab_type": "code",
        "colab": {}
      },
      "source": [
        "# copia para um data frame que será usado para clusterização\n",
        "df_games_ranked_standardized = df_games_ranked.copy()"
      ],
      "execution_count": null,
      "outputs": []
    },
    {
      "cell_type": "code",
      "metadata": {
        "id": "zU8eKBCZ9h9J",
        "colab_type": "code",
        "colab": {}
      },
      "source": [
        "# calculma a media\n",
        "df_games_ranked_standardized[\"win_mean\"] = df_games_ranked_standardized.win / df_games_ranked_standardized.games"
      ],
      "execution_count": null,
      "outputs": []
    },
    {
      "cell_type": "code",
      "metadata": {
        "id": "gPetTAUI4C9u",
        "colab_type": "code",
        "colab": {}
      },
      "source": [
        "scaler_data(df_games_ranked_standardized, features_clusterization)"
      ],
      "execution_count": null,
      "outputs": []
    },
    {
      "cell_type": "code",
      "metadata": {
        "id": "nUo84JLtquiz",
        "colab_type": "code",
        "colab": {}
      },
      "source": [
        "# pega os dados que serão utilizados no processo de clusterização\n",
        "data_to_cluster_ranked = df_games_ranked_standardized[['win_mean','games']].iloc[: , :].values"
      ],
      "execution_count": null,
      "outputs": []
    },
    {
      "cell_type": "code",
      "metadata": {
        "id": "Lj9LjQrtrGLj",
        "colab_type": "code",
        "colab": {
          "base_uri": "https://localhost:8080/"
        },
        "outputId": "ed34df59-6493-4b51-e6a8-e98b965e6b0c"
      },
      "source": [
        "# calcula a inertia, para saber o K ótimo\n",
        "inertia = []\n",
        "for n in range(1 , 11):\n",
        "    algorithm = (KMeans(n_clusters = n))\n",
        "    algorithm.fit(data_to_cluster_ranked)\n",
        "    inertia.append(algorithm.inertia_)\n",
        "\n",
        "# plot da inercia\n",
        "\n",
        "plt.figure(1 , figsize = (15 ,6))\n",
        "plt.plot(np.arange(1 , 11) , inertia , 'o')\n",
        "plt.plot(np.arange(1 , 11) , inertia , '-' , alpha = 0.5)\n",
        "plt.xlabel('Número de Clusters') , plt.ylabel('Soma das Distâncias Q intra Clusters')\n",
        "plt.show()"
      ],
      "execution_count": null,
      "outputs": [
        {
          "output_type": "display_data",
          "data": {
            "image/png": "[encoded data removed]",
            "text/plain": [
              "<Figure size 1080x432 with 1 Axes>"
            ]
          },
          "metadata": {
            "tags": [],
            "needs_background": "light"
          }
        }
      ]
    },
    {
      "cell_type": "code",
      "metadata": {
        "id": "Upls9v8mZGPh",
        "colab_type": "code",
        "colab": {
          "base_uri": "https://localhost:8080/"
        },
        "outputId": "07cb77bc-35a2-4726-c9ae-a1c614ec9a57"
      },
      "source": [
        "inertia"
      ],
      "execution_count": null,
      "outputs": [
        {
          "output_type": "execute_result",
          "data": {
            "text/plain": [
              "[12.344312901778938,\n",
              " 7.79144576119466,\n",
              " 5.331812170817765,\n",
              " 4.105702829461924,\n",
              " 3.3461828220672145,\n",
              " 2.782593474576871,\n",
              " 2.3090015495726783,\n",
              " 2.030587954712293,\n",
              " 1.7561119064611823,\n",
              " 1.5812826679328063]"
            ]
          },
          "metadata": {
            "tags": []
          },
          "execution_count": 39
        }
      ]
    },
    {
      "cell_type": "code",
      "metadata": {
        "id": "OJKwpf0srwN_",
        "colab_type": "code",
        "colab": {
          "base_uri": "https://localhost:8080/"
        },
        "outputId": "9bd2fde6-9225-49fa-83b5-df2b79f1c733"
      },
      "source": [
        "# Inicializando e Computando o KMeans com o valor de 4 clusters:\n",
        "algorithm = (KMeans(n_clusters = 3))\n",
        "algorithm.fit(data_to_cluster_ranked)"
      ],
      "execution_count": null,
      "outputs": [
        {
          "output_type": "execute_result",
          "data": {
            "text/plain": [
              "KMeans(algorithm='auto', copy_x=True, init='k-means++', max_iter=300,\n",
              "       n_clusters=3, n_init=10, n_jobs=None, precompute_distances='auto',\n",
              "       random_state=None, tol=0.0001, verbose=0)"
            ]
          },
          "metadata": {
            "tags": []
          },
          "execution_count": 40
        }
      ]
    },
    {
      "cell_type": "code",
      "metadata": {
        "id": "cBArmr2Cr-Fk",
        "colab_type": "code",
        "colab": {}
      },
      "source": [
        "df_games_ranked[\"categorie\"] = algorithm.labels_"
      ],
      "execution_count": null,
      "outputs": []
    },
    {
      "cell_type": "markdown",
      "metadata": {
        "colab_type": "text",
        "id": "kTmSeTAwZzRc"
      },
      "source": [
        "# RESULTADO JOGOS RANKEADOS:\n",
        "\n",
        "Para os jogos rankeados os jogadores foram dividos em 3 categorias.\n",
        "Onde cada categoria conta com:\n",
        "\n",
        "Categoria 1    73\n",
        "\n",
        "Categoria 0    64\n",
        "\n",
        "Categoria 2    63\n",
        "\n",
        "A planilha \"ranked.csv\" contém o nome dos jogadores e suas respectivas categorias.\n",
        "\n",
        "Países com maior número de vitórias:\n",
        "\n",
        "1 - Togo\n",
        "\n",
        "2 - Equatorial Guinea\n",
        "\n",
        "3 - Myanmar\n",
        "\n",
        "4 - Guyana\n",
        "\n",
        "5 - Benin"
      ]
    },
    {
      "cell_type": "code",
      "metadata": {
        "colab_type": "code",
        "id": "qOaGEk4bZzRk",
        "colab": {
          "base_uri": "https://localhost:8080/",
          "height": 87
        },
        "outputId": "b5a06289-ee9a-445b-9bb3-5fa34a54831f"
      },
      "source": [
        "df_games_ranked.categorie.value_counts()"
      ],
      "execution_count": null,
      "outputs": [
        {
          "output_type": "execute_result",
          "data": {
            "text/plain": [
              "2    73\n",
              "0    64\n",
              "1    63\n",
              "Name: categorie, dtype: int64"
            ]
          },
          "metadata": {
            "tags": []
          },
          "execution_count": 42
        }
      ]
    },
    {
      "cell_type": "code",
      "metadata": {
        "colab_type": "code",
        "id": "yZi3CVnEZzRe",
        "colab": {
          "base_uri": "https://localhost:8080/",
          "height": 499
        },
        "outputId": "e42a384a-c12f-4ad3-f00c-9b70f8af4117"
      },
      "source": [
        "df_games_ranked.groupby(\"categorie\").aggregate(\"mean\").plot.bar(figsize=(10,7.5))\n",
        "plt.title(\"Dados por categoria\")"
      ],
      "execution_count": null,
      "outputs": [
        {
          "output_type": "execute_result",
          "data": {
            "text/plain": [
              "Text(0.5, 1.0, 'Dados por categoria')"
            ]
          },
          "metadata": {
            "tags": []
          },
          "execution_count": 43
        },
        {
          "output_type": "display_data",
          "data": {
            "image/png": "[encoded data removed]",
            "text/plain": [
              "<Figure size 720x540 with 1 Axes>"
            ]
          },
          "metadata": {
            "tags": [],
            "needs_background": "light"
          }
        }
      ]
    },
    {
      "cell_type": "code",
      "metadata": {
        "colab_type": "code",
        "id": "Pz08cykFZzRp",
        "colab": {}
      },
      "source": [
        "df_games_ranked.to_csv(\"ranked.csv\", sep=\";\")"
      ],
      "execution_count": null,
      "outputs": []
    },
    {
      "cell_type": "code",
      "metadata": {
        "colab_type": "code",
        "id": "IKX7NzR7ZzRu",
        "colab": {
          "base_uri": "https://localhost:8080/",
          "height": 295
        },
        "outputId": "11a6477a-517f-4743-dfae-95e2969e3f67"
      },
      "source": [
        "color = get_colors()\n",
        "\n",
        "plt.scatter(data_to_cluster_ranked[:, 0], data_to_cluster_ranked[:,1], s = 100, c = algorithm.labels_)\n",
        "for centroid in range(len(algorithm.cluster_centers_)):  \n",
        "  plt.scatter(algorithm.cluster_centers_[centroid:, 0], algorithm.cluster_centers_[centroid:, 1], s = 300, c = color[centroid],label = str(algorithm.labels_[centroid]))\n",
        "\n",
        "plt.title('Vitórias x Jogos')\n",
        "plt.xlabel('Vitórias')\n",
        "plt.ylabel('Jogos')\n",
        "plt.legend()\n",
        "\n",
        "plt.show()"
      ],
      "execution_count": null,
      "outputs": [
        {
          "output_type": "display_data",
          "data": {
            "image/png": "[encoded data removed]",
            "text/plain": [
              "<Figure size 432x288 with 1 Axes>"
            ]
          },
          "metadata": {
            "tags": [],
            "needs_background": "light"
          }
        }
      ]
    },
    {
      "cell_type": "code",
      "metadata": {
        "id": "fJMEItTwb3eb",
        "colab_type": "code",
        "colab": {
          "base_uri": "https://localhost:8080/",
          "height": 583
        },
        "outputId": "022130bd-4a1e-480d-f276-1864070febe9"
      },
      "source": [
        "df_games_ranked.groupby(\"country\").aggregate(\"sum\").sort_values(by='win', ascending=False) \\\n",
        ".head(5).win.plot.bar(figsize=(10,7.5) )\n",
        "plt.title(\"Vitórias por país\")"
      ],
      "execution_count": null,
      "outputs": [
        {
          "output_type": "execute_result",
          "data": {
            "text/plain": [
              "Text(0.5, 1.0, 'Vitórias por país')"
            ]
          },
          "metadata": {
            "tags": []
          },
          "execution_count": 46
        },
        {
          "output_type": "display_data",
          "data": {
            "image/png": "[encoded data removed]",
            "text/plain": [
              "<Figure size 720x540 with 1 Axes>"
            ]
          },
          "metadata": {
            "tags": [],
            "needs_background": "light"
          }
        }
      ]
    }
  ]
}